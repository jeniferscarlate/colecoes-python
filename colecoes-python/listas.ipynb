{
 "cells": [
  {
   "cell_type": "markdown",
   "metadata": {},
   "source": [
    "# Coleção\n",
    "\n",
    "## Listas"
   ]
  },
  {
   "cell_type": "code",
   "execution_count": 20,
   "metadata": {},
   "outputs": [
    {
     "name": "stdout",
     "output_type": "stream",
     "text": [
      "['banana', 'laranja', 'uva', 'pera', 'melancia']\n"
     ]
    }
   ],
   "source": [
    "# Lista de strings\n",
    "frutas = ['banana','laranja', 'uva', 'pera', 'melancia']\n",
    "print(frutas)"
   ]
  },
  {
   "cell_type": "code",
   "execution_count": 21,
   "metadata": {},
   "outputs": [
    {
     "name": "stdout",
     "output_type": "stream",
     "text": [
      "[1, 2, 3, 4, 5, 6]\n"
     ]
    }
   ],
   "source": [
    "# Lista de inteiros \n",
    "numeros = [1, 2, 3, 4, 5, 6]\n",
    "print(numeros)"
   ]
  },
  {
   "cell_type": "code",
   "execution_count": 22,
   "metadata": {},
   "outputs": [
    {
     "name": "stdout",
     "output_type": "stream",
     "text": [
      "[[1, 2, 3], [4, 5, 6], [7, 8, 9]]\n"
     ]
    }
   ],
   "source": [
    "# Lista de listas \n",
    "listas = [[1,2,3], [4,5,6], [7,8,9]]\n",
    "print(listas)"
   ]
  },
  {
   "cell_type": "code",
   "execution_count": 23,
   "metadata": {},
   "outputs": [
    {
     "name": "stdout",
     "output_type": "stream",
     "text": [
      "[1, 'banana', 2.5, True]\n"
     ]
    }
   ],
   "source": [
    "# Lista mista\n",
    "misturada = [1, 'banana', 2.5, True]\n",
    "print(misturada)"
   ]
  },
  {
   "cell_type": "code",
   "execution_count": 24,
   "metadata": {},
   "outputs": [
    {
     "name": "stdout",
     "output_type": "stream",
     "text": [
      "5\n"
     ]
    }
   ],
   "source": [
    "# Tamanho da lista\n",
    "print(len(frutas))"
   ]
  },
  {
   "cell_type": "code",
   "execution_count": 25,
   "metadata": {},
   "outputs": [
    {
     "name": "stdout",
     "output_type": "stream",
     "text": [
      "banana\n"
     ]
    }
   ],
   "source": [
    "# Acessando elementos da lista\n",
    "print(frutas[0])"
   ]
  },
  {
   "cell_type": "code",
   "execution_count": 26,
   "metadata": {},
   "outputs": [
    {
     "name": "stdout",
     "output_type": "stream",
     "text": [
      "uva\n"
     ]
    }
   ],
   "source": [
    "# Acessando elementosda lista de trás para frente\n",
    "print(frutas[-3])"
   ]
  },
  {
   "cell_type": "code",
   "execution_count": 27,
   "metadata": {},
   "outputs": [
    {
     "name": "stdout",
     "output_type": "stream",
     "text": [
      "['banana', 'laranja', 'uva', 'pera', 'melancia']\n",
      "['laranja', 'uva']\n"
     ]
    }
   ],
   "source": [
    "# Acessando intervalos\n",
    "print(frutas)\n",
    "print(frutas[1:3]) # ['laranja', 'uva'] - do índice 1 ao 3, sem incluir o 3"
   ]
  },
  {
   "cell_type": "code",
   "execution_count": 28,
   "metadata": {},
   "outputs": [
    {
     "name": "stdout",
     "output_type": "stream",
     "text": [
      "['banana', 'laranja', 'uva']\n",
      "['uva', 'pera', 'melancia']\n"
     ]
    }
   ],
   "source": [
    "print(frutas[:3]) #['banana', 'laranja', 'uva'] - do início ao ìndice 3, sem incluir o 3\n",
    "print(frutas[2:]) #['uva', 'pera', 'melancia'] - do índice 2 ao final"
   ]
  },
  {
   "cell_type": "code",
   "execution_count": 29,
   "metadata": {},
   "outputs": [
    {
     "name": "stdout",
     "output_type": "stream",
     "text": [
      "['banana', 'laranja', 'uva', 'pera', 'melancia', 'abacaxi', 'abacate']\n"
     ]
    }
   ],
   "source": [
    "# Adicionando elementos\n",
    "frutas.append('abacaxi')\n",
    "frutas.append('abacate')\n",
    "print(frutas)"
   ]
  },
  {
   "cell_type": "code",
   "execution_count": 30,
   "metadata": {},
   "outputs": [
    {
     "name": "stdout",
     "output_type": "stream",
     "text": [
      "['banana', 'laranja', 'morango', 'uva', 'pera', 'melancia', 'abacaxi', 'abacate']\n"
     ]
    }
   ],
   "source": [
    "# Adicionando elementos em uma posição específica\n",
    "frutas.insert(2, 'morango')\n",
    "print(frutas)"
   ]
  },
  {
   "cell_type": "code",
   "execution_count": 31,
   "metadata": {},
   "outputs": [
    {
     "name": "stdout",
     "output_type": "stream",
     "text": [
      "['banana', 'laranja', 'morango', 'limão', 'pera', 'melancia', 'abacaxi', 'abacate']\n"
     ]
    }
   ],
   "source": [
    "# Substituindo elementos\n",
    "frutas[3] = 'limão'\n",
    "print(frutas)"
   ]
  },
  {
   "cell_type": "code",
   "execution_count": 33,
   "metadata": {},
   "outputs": [
    {
     "name": "stdout",
     "output_type": "stream",
     "text": [
      "Elemento não encontrado\n",
      "['banana', 'laranja', 'morango', 'limão', 'melancia', 'abacaxi', 'abacate']\n"
     ]
    }
   ],
   "source": [
    "# Removendo elementos\n",
    "\n",
    "try:\n",
    "    frutas.remove('pera') # remove a primeira ocorrência do elemento\n",
    "    print('Pera removida')\n",
    "except ValueError:\n",
    "    print('Elemento não encontrado')\n",
    "\n",
    "print(frutas) "
   ]
  },
  {
   "cell_type": "code",
   "execution_count": 34,
   "metadata": {},
   "outputs": [
    {
     "name": "stdout",
     "output_type": "stream",
     "text": [
      "['banana', 'laranja', 'morango', 'limão', 'melancia', 'abacaxi', 'abacate', 'framboesa', 'cajá', 'graviola']\n"
     ]
    }
   ],
   "source": [
    "# extendendo listas com base em outras listas\n",
    "frutas2 = ['framboesa', 'cajá', 'graviola']\n",
    "frutas.extend(frutas2)\n",
    "print(frutas)"
   ]
  },
  {
   "cell_type": "code",
   "execution_count": 35,
   "metadata": {},
   "outputs": [
    {
     "name": "stdout",
     "output_type": "stream",
     "text": [
      "['banana', 'laranja', 'morango', 'limão', 'melancia', 'abacaxi', 'abacate', 'framboesa', 'cajá', 'graviola', 'manga', 'goiaba', 'caqui']\n"
     ]
    }
   ],
   "source": [
    "# Extendendo listas com base em outros tipos de iteráveis\n",
    "tupla = ('manga', 'goiaba', 'caqui') # tupla não permite valores duplicados\n",
    "frutas.extend(tupla)\n",
    "print(frutas)"
   ]
  },
  {
   "cell_type": "code",
   "execution_count": 36,
   "metadata": {},
   "outputs": [
    {
     "name": "stdout",
     "output_type": "stream",
     "text": [
      "['banana', 'laranja', 'morango', 'limão', 'melancia', 'abacaxi', 'abacate', 'framboesa', 'cajá', 'graviola', 'manga', 'goiaba']\n"
     ]
    }
   ],
   "source": [
    "# Removendo elementos do final da lista\n",
    "frutas.pop()\n",
    "print(frutas)"
   ]
  },
  {
   "cell_type": "code",
   "execution_count": 37,
   "metadata": {},
   "outputs": [
    {
     "name": "stdout",
     "output_type": "stream",
     "text": [
      "['banana', 'laranja', 'morango', 'limão', 'abacaxi', 'abacate', 'framboesa', 'cajá', 'graviola', 'manga', 'goiaba']\n"
     ]
    }
   ],
   "source": [
    "# Removendo elementos de uma posição específica\n",
    "frutas.pop(4)\n",
    "print(frutas)"
   ]
  },
  {
   "cell_type": "code",
   "execution_count": 38,
   "metadata": {},
   "outputs": [
    {
     "name": "stdout",
     "output_type": "stream",
     "text": [
      "['laranja', 'morango', 'limão', 'abacaxi', 'abacate', 'framboesa', 'cajá', 'graviola', 'manga', 'goiaba']\n"
     ]
    }
   ],
   "source": [
    "# Removendo elementos com a função del\n",
    "del frutas[0]\n",
    "print(frutas)"
   ]
  },
  {
   "cell_type": "code",
   "execution_count": 39,
   "metadata": {},
   "outputs": [
    {
     "name": "stdout",
     "output_type": "stream",
     "text": [
      "[]\n"
     ]
    }
   ],
   "source": [
    "# Removendo todos os elementos \n",
    "frutas.clear()\n",
    "print(frutas)"
   ]
  },
  {
   "cell_type": "code",
   "execution_count": 40,
   "metadata": {},
   "outputs": [],
   "source": [
    "# Nova lista\n",
    "legumes = ['cenoura', 'beterraba', 'abóbora', 'batata']"
   ]
  },
  {
   "cell_type": "code",
   "execution_count": 41,
   "metadata": {},
   "outputs": [
    {
     "name": "stdout",
     "output_type": "stream",
     "text": [
      "cenoura\n",
      "beterraba\n",
      "abóbora\n",
      "batata\n"
     ]
    }
   ],
   "source": [
    "# Iterando sobre listas\n",
    "for legume in legumes:\n",
    "    print(legume)"
   ]
  },
  {
   "cell_type": "code",
   "execution_count": 42,
   "metadata": {},
   "outputs": [
    {
     "name": "stdout",
     "output_type": "stream",
     "text": [
      "cenoura\n",
      "beterraba\n",
      "abóbora\n",
      "batata\n"
     ]
    },
    {
     "data": {
      "text/plain": [
       "[None, None, None, None]"
      ]
     },
     "execution_count": 42,
     "metadata": {},
     "output_type": "execute_result"
    }
   ],
   "source": [
    "# Shorthand for\n",
    "[print(legume) for legume in legumes]"
   ]
  },
  {
   "cell_type": "code",
   "execution_count": 47,
   "metadata": {},
   "outputs": [
    {
     "name": "stdout",
     "output_type": "stream",
     "text": [
      "Números pares: [0, 2, 4, 6, 8]\n",
      "Números impares: [1, 3, 5, 7, 9]\n"
     ]
    }
   ],
   "source": [
    "numeros = [0, 1, 2, 3, 4, 5, 6, 7, 8, 9]\n",
    "pares = [numero for numero in numeros if numero % 2 == 0]\n",
    "impares = [numero for numero in numeros if numero % 2 != 0]\n",
    "\n",
    "# No JavasScript\n",
    "# const pares = numeros.filter(numero => numero % 2 === 0)\n",
    "\n",
    "#for (let numero of numeros) {\n",
    "#   if(numero % 2 === 0) {\n",
    "#       pares.push(numero)\n",
    "#   }\n",
    "#}\n",
    "\n",
    "print(f'Números pares: {pares}')\n",
    "print(f'Números impares: {impares}')"
   ]
  },
  {
   "cell_type": "code",
   "execution_count": 48,
   "metadata": {},
   "outputs": [
    {
     "name": "stdout",
     "output_type": "stream",
     "text": [
      "['cenoura', 'beterraba', 'abóbora', 'batata']\n"
     ]
    }
   ],
   "source": [
    "# Ordenando listas\n",
    "print(legumes)"
   ]
  },
  {
   "cell_type": "code",
   "execution_count": 49,
   "metadata": {},
   "outputs": [
    {
     "name": "stdout",
     "output_type": "stream",
     "text": [
      "['abóbora', 'batata', 'beterraba', 'cenoura']\n"
     ]
    }
   ],
   "source": [
    "# Ordenando em ordem crescente (alfabética)\n",
    "legumes.sort()\n",
    "print(legumes)"
   ]
  },
  {
   "cell_type": "code",
   "execution_count": 50,
   "metadata": {},
   "outputs": [
    {
     "name": "stdout",
     "output_type": "stream",
     "text": [
      "['cenoura', 'beterraba', 'batata', 'abóbora']\n"
     ]
    }
   ],
   "source": [
    "# Ordenando em ordem decrescente (alfsbética)\n",
    "legumes.sort(reverse=True)\n",
    "print(legumes)"
   ]
  },
  {
   "cell_type": "code",
   "execution_count": 51,
   "metadata": {},
   "outputs": [
    {
     "name": "stdout",
     "output_type": "stream",
     "text": [
      "['cenoura', 'beterraba', 'batata', 'abóbora']\n"
     ]
    }
   ],
   "source": [
    "sopa = legumes.copy()\n",
    "print(sopa)"
   ]
  },
  {
   "cell_type": "code",
   "execution_count": 52,
   "metadata": {},
   "outputs": [
    {
     "name": "stdout",
     "output_type": "stream",
     "text": [
      "['abóbora', 'batata', 'beterraba', 'cenoura']\n",
      "['cenoura', 'beterraba', 'batata', 'abóbora']\n"
     ]
    }
   ],
   "source": [
    "# Ordenando com a função global sorted()\n",
    "print(sorted(legumes)) # ordena os items, mas não altera a lista\n",
    "print(legumes)"
   ]
  },
  {
   "cell_type": "code",
   "execution_count": 53,
   "metadata": {},
   "outputs": [],
   "source": [
    "# Listas permitem elementos duplicados\n",
    "\n",
    "legumes.extend(['cenoura', 'beterraba', 'abóbora', 'batata', 'batata', 'batata'])\n"
   ]
  },
  {
   "cell_type": "code",
   "execution_count": 55,
   "metadata": {},
   "outputs": [
    {
     "name": "stdout",
     "output_type": "stream",
     "text": [
      "['cenoura', 'beterraba', 'batata', 'abóbora', 'cenoura', 'beterraba', 'abóbora', 'batata', 'batata', 'batata']\n",
      "4\n",
      "2\n"
     ]
    }
   ],
   "source": [
    "# Contando a quantidade de ocorrências de um elemento\n",
    "print(legumes)\n",
    "print(legumes.count('batata')) \n",
    "print(legumes.count('beterraba'))"
   ]
  }
 ],
 "metadata": {
  "kernelspec": {
   "display_name": "Python 3",
   "language": "python",
   "name": "python3"
  },
  "language_info": {
   "codemirror_mode": {
    "name": "ipython",
    "version": 3
   },
   "file_extension": ".py",
   "mimetype": "text/x-python",
   "name": "python",
   "nbconvert_exporter": "python",
   "pygments_lexer": "ipython3",
   "version": "3.12.0"
  }
 },
 "nbformat": 4,
 "nbformat_minor": 2
}
